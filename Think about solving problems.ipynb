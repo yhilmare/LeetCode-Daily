{
 "cells": [
  {
   "cell_type": "markdown",
   "metadata": {},
   "source": [
    "个人整理的Leetcode解题思路和想法，由于最开始没有写这个，因此从leetcode的第19题开始更新。"
   ]
  },
  {
   "cell_type": "markdown",
   "metadata": {},
   "source": [
    "## 第19题，移除链表倒数第n项"
   ]
  },
  {
   "cell_type": "markdown",
   "metadata": {},
   "source": [
    ">给定一个链表，移除该链表的最后第n项，同时返回该链表的头指针，且给定的n永远是有效的。<br/>\n",
    "举例：<br/>\n",
    "给定一个链表：1->2->3->4->5，同时n = 2<br/>\n",
    "移除链表的倒数第二项后，得到的链表为：1->2->3->5."
   ]
  },
  {
   "cell_type": "markdown",
   "metadata": {},
   "source": [
    "本题十分简单，就是简单的链表删除操作：\n",
    "\n",
    "```C++\n",
    "struct ListNode{\n",
    "    int val;\n",
    "    ListNode *next;\n",
    "    ListNode(int x):val(x), next(NULL){}\n",
    "};\n",
    "ListNode* removeNthFromEnd(ListNode* head, int n){\n",
    "    int totalLength = 0;\n",
    "    for (ListNode *p = head; p; p = p->next){\n",
    "        totalLength ++;\n",
    "    }\n",
    "    if (n <= 0 || n > totalLength){\n",
    "        return NULL;\n",
    "    }\n",
    "    int i = 0;\n",
    "    for (ListNode *prior = NULL, *p = head; p; p = p->next){\n",
    "        if (++i == (totalLength - n + 1)){\n",
    "            if (prior == NULL){\n",
    "                ListNode *newNode = p->next;\n",
    "                p->next = NULL;\n",
    "                delete p;\n",
    "                return newNode;\n",
    "            }else{\n",
    "                prior->next = p->next;\n",
    "                p->next = NULL;\n",
    "                delete p;\n",
    "                return head;\n",
    "            }\n",
    "        }\n",
    "        prior = p;\n",
    "    }\n",
    "    return NULL;\n",
    "}\n",
    "```"
   ]
  },
  {
   "cell_type": "code",
   "execution_count": null,
   "metadata": {},
   "outputs": [],
   "source": []
  }
 ],
 "metadata": {
  "kernelspec": {
   "display_name": "Python 3",
   "language": "python",
   "name": "python3"
  },
  "language_info": {
   "codemirror_mode": {
    "name": "ipython",
    "version": 3
   },
   "file_extension": ".py",
   "mimetype": "text/x-python",
   "name": "python",
   "nbconvert_exporter": "python",
   "pygments_lexer": "ipython3",
   "version": "3.5.4"
  }
 },
 "nbformat": 4,
 "nbformat_minor": 2
}
